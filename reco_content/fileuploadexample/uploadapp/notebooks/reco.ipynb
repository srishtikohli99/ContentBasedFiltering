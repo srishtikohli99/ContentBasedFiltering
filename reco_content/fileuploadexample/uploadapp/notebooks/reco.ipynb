{
 "cells": [
  {
   "cell_type": "code",
   "execution_count": 1,
   "metadata": {},
   "outputs": [],
   "source": [
    "import pandas as pd # pandas for data manipulation\n",
    "import numpy as np # numpy for sure\n",
    "from scipy.sparse import coo_matrix # for constructing sparse matrix\n",
    "# lightfm \n",
    "from lightfm import LightFM # model\n",
    "from lightfm.evaluation import auc_score\n",
    "\n",
    "# timing\n",
    "import time"
   ]
  },
  {
   "cell_type": "code",
   "execution_count": 5,
   "metadata": {},
   "outputs": [],
   "source": [
    "aisles = pd.read_csv('csv/aisles.csv')\n",
    "departments = pd.read_csv('csv/departments.csv')\n",
    "orders = pd.read_csv('csv/orders.csv')\n",
    "order_products__prior = pd.read_csv('csv/order_products__prior.csv')\n",
    "order_products__train = pd.read_csv('csv/order_products__train.csv')\n",
    "products = pd.read_csv('csv/products.csv')"
   ]
  },
  {
   "cell_type": "code",
   "execution_count": 6,
   "metadata": {},
   "outputs": [
    {
     "data": {
      "text/html": [
       "<div>\n",
       "<style scoped>\n",
       "    .dataframe tbody tr th:only-of-type {\n",
       "        vertical-align: middle;\n",
       "    }\n",
       "\n",
       "    .dataframe tbody tr th {\n",
       "        vertical-align: top;\n",
       "    }\n",
       "\n",
       "    .dataframe thead th {\n",
       "        text-align: right;\n",
       "    }\n",
       "</style>\n",
       "<table border=\"1\" class=\"dataframe\">\n",
       "  <thead>\n",
       "    <tr style=\"text-align: right;\">\n",
       "      <th></th>\n",
       "      <th>aisle_id</th>\n",
       "      <th>aisle</th>\n",
       "    </tr>\n",
       "  </thead>\n",
       "  <tbody>\n",
       "    <tr>\n",
       "      <th>0</th>\n",
       "      <td>1</td>\n",
       "      <td>prepared soups salads</td>\n",
       "    </tr>\n",
       "    <tr>\n",
       "      <th>1</th>\n",
       "      <td>2</td>\n",
       "      <td>specialty cheeses</td>\n",
       "    </tr>\n",
       "    <tr>\n",
       "      <th>2</th>\n",
       "      <td>3</td>\n",
       "      <td>energy granola bars</td>\n",
       "    </tr>\n",
       "    <tr>\n",
       "      <th>3</th>\n",
       "      <td>4</td>\n",
       "      <td>instant foods</td>\n",
       "    </tr>\n",
       "    <tr>\n",
       "      <th>4</th>\n",
       "      <td>5</td>\n",
       "      <td>marinades meat preparation</td>\n",
       "    </tr>\n",
       "  </tbody>\n",
       "</table>\n",
       "</div>"
      ],
      "text/plain": [
       "   aisle_id                       aisle\n",
       "0         1       prepared soups salads\n",
       "1         2           specialty cheeses\n",
       "2         3         energy granola bars\n",
       "3         4               instant foods\n",
       "4         5  marinades meat preparation"
      ]
     },
     "execution_count": 6,
     "metadata": {},
     "output_type": "execute_result"
    }
   ],
   "source": [
    "aisles.head()"
   ]
  },
  {
   "cell_type": "code",
   "execution_count": 7,
   "metadata": {},
   "outputs": [
    {
     "data": {
      "text/html": [
       "<div>\n",
       "<style scoped>\n",
       "    .dataframe tbody tr th:only-of-type {\n",
       "        vertical-align: middle;\n",
       "    }\n",
       "\n",
       "    .dataframe tbody tr th {\n",
       "        vertical-align: top;\n",
       "    }\n",
       "\n",
       "    .dataframe thead th {\n",
       "        text-align: right;\n",
       "    }\n",
       "</style>\n",
       "<table border=\"1\" class=\"dataframe\">\n",
       "  <thead>\n",
       "    <tr style=\"text-align: right;\">\n",
       "      <th></th>\n",
       "      <th>department_id</th>\n",
       "      <th>department</th>\n",
       "    </tr>\n",
       "  </thead>\n",
       "  <tbody>\n",
       "    <tr>\n",
       "      <th>0</th>\n",
       "      <td>1</td>\n",
       "      <td>frozen</td>\n",
       "    </tr>\n",
       "    <tr>\n",
       "      <th>1</th>\n",
       "      <td>2</td>\n",
       "      <td>other</td>\n",
       "    </tr>\n",
       "    <tr>\n",
       "      <th>2</th>\n",
       "      <td>3</td>\n",
       "      <td>bakery</td>\n",
       "    </tr>\n",
       "    <tr>\n",
       "      <th>3</th>\n",
       "      <td>4</td>\n",
       "      <td>produce</td>\n",
       "    </tr>\n",
       "    <tr>\n",
       "      <th>4</th>\n",
       "      <td>5</td>\n",
       "      <td>alcohol</td>\n",
       "    </tr>\n",
       "  </tbody>\n",
       "</table>\n",
       "</div>"
      ],
      "text/plain": [
       "   department_id department\n",
       "0              1     frozen\n",
       "1              2      other\n",
       "2              3     bakery\n",
       "3              4    produce\n",
       "4              5    alcohol"
      ]
     },
     "execution_count": 7,
     "metadata": {},
     "output_type": "execute_result"
    }
   ],
   "source": [
    "departments.head()\n"
   ]
  },
  {
   "cell_type": "code",
   "execution_count": 8,
   "metadata": {},
   "outputs": [
    {
     "data": {
      "text/html": [
       "<div>\n",
       "<style scoped>\n",
       "    .dataframe tbody tr th:only-of-type {\n",
       "        vertical-align: middle;\n",
       "    }\n",
       "\n",
       "    .dataframe tbody tr th {\n",
       "        vertical-align: top;\n",
       "    }\n",
       "\n",
       "    .dataframe thead th {\n",
       "        text-align: right;\n",
       "    }\n",
       "</style>\n",
       "<table border=\"1\" class=\"dataframe\">\n",
       "  <thead>\n",
       "    <tr style=\"text-align: right;\">\n",
       "      <th></th>\n",
       "      <th>order_id</th>\n",
       "      <th>user_id</th>\n",
       "      <th>eval_set</th>\n",
       "      <th>order_number</th>\n",
       "      <th>order_dow</th>\n",
       "      <th>order_hour_of_day</th>\n",
       "      <th>days_since_prior_order</th>\n",
       "    </tr>\n",
       "  </thead>\n",
       "  <tbody>\n",
       "    <tr>\n",
       "      <th>0</th>\n",
       "      <td>2539329</td>\n",
       "      <td>1</td>\n",
       "      <td>prior</td>\n",
       "      <td>1</td>\n",
       "      <td>2</td>\n",
       "      <td>8</td>\n",
       "      <td>NaN</td>\n",
       "    </tr>\n",
       "    <tr>\n",
       "      <th>1</th>\n",
       "      <td>2398795</td>\n",
       "      <td>1</td>\n",
       "      <td>prior</td>\n",
       "      <td>2</td>\n",
       "      <td>3</td>\n",
       "      <td>7</td>\n",
       "      <td>15.0</td>\n",
       "    </tr>\n",
       "    <tr>\n",
       "      <th>2</th>\n",
       "      <td>473747</td>\n",
       "      <td>1</td>\n",
       "      <td>prior</td>\n",
       "      <td>3</td>\n",
       "      <td>3</td>\n",
       "      <td>12</td>\n",
       "      <td>21.0</td>\n",
       "    </tr>\n",
       "    <tr>\n",
       "      <th>3</th>\n",
       "      <td>2254736</td>\n",
       "      <td>1</td>\n",
       "      <td>prior</td>\n",
       "      <td>4</td>\n",
       "      <td>4</td>\n",
       "      <td>7</td>\n",
       "      <td>29.0</td>\n",
       "    </tr>\n",
       "    <tr>\n",
       "      <th>4</th>\n",
       "      <td>431534</td>\n",
       "      <td>1</td>\n",
       "      <td>prior</td>\n",
       "      <td>5</td>\n",
       "      <td>4</td>\n",
       "      <td>15</td>\n",
       "      <td>28.0</td>\n",
       "    </tr>\n",
       "  </tbody>\n",
       "</table>\n",
       "</div>"
      ],
      "text/plain": [
       "   order_id  user_id eval_set  order_number  order_dow  order_hour_of_day  \\\n",
       "0   2539329        1    prior             1          2                  8   \n",
       "1   2398795        1    prior             2          3                  7   \n",
       "2    473747        1    prior             3          3                 12   \n",
       "3   2254736        1    prior             4          4                  7   \n",
       "4    431534        1    prior             5          4                 15   \n",
       "\n",
       "   days_since_prior_order  \n",
       "0                     NaN  \n",
       "1                    15.0  \n",
       "2                    21.0  \n",
       "3                    29.0  \n",
       "4                    28.0  "
      ]
     },
     "execution_count": 8,
     "metadata": {},
     "output_type": "execute_result"
    }
   ],
   "source": [
    "orders.head()"
   ]
  },
  {
   "cell_type": "code",
   "execution_count": 9,
   "metadata": {},
   "outputs": [
    {
     "data": {
      "text/html": [
       "<div>\n",
       "<style scoped>\n",
       "    .dataframe tbody tr th:only-of-type {\n",
       "        vertical-align: middle;\n",
       "    }\n",
       "\n",
       "    .dataframe tbody tr th {\n",
       "        vertical-align: top;\n",
       "    }\n",
       "\n",
       "    .dataframe thead th {\n",
       "        text-align: right;\n",
       "    }\n",
       "</style>\n",
       "<table border=\"1\" class=\"dataframe\">\n",
       "  <thead>\n",
       "    <tr style=\"text-align: right;\">\n",
       "      <th></th>\n",
       "      <th>order_id</th>\n",
       "      <th>product_id</th>\n",
       "      <th>add_to_cart_order</th>\n",
       "      <th>reordered</th>\n",
       "    </tr>\n",
       "  </thead>\n",
       "  <tbody>\n",
       "    <tr>\n",
       "      <th>0</th>\n",
       "      <td>2</td>\n",
       "      <td>33120</td>\n",
       "      <td>1</td>\n",
       "      <td>1</td>\n",
       "    </tr>\n",
       "    <tr>\n",
       "      <th>1</th>\n",
       "      <td>2</td>\n",
       "      <td>28985</td>\n",
       "      <td>2</td>\n",
       "      <td>1</td>\n",
       "    </tr>\n",
       "    <tr>\n",
       "      <th>2</th>\n",
       "      <td>2</td>\n",
       "      <td>9327</td>\n",
       "      <td>3</td>\n",
       "      <td>0</td>\n",
       "    </tr>\n",
       "    <tr>\n",
       "      <th>3</th>\n",
       "      <td>2</td>\n",
       "      <td>45918</td>\n",
       "      <td>4</td>\n",
       "      <td>1</td>\n",
       "    </tr>\n",
       "    <tr>\n",
       "      <th>4</th>\n",
       "      <td>2</td>\n",
       "      <td>30035</td>\n",
       "      <td>5</td>\n",
       "      <td>0</td>\n",
       "    </tr>\n",
       "  </tbody>\n",
       "</table>\n",
       "</div>"
      ],
      "text/plain": [
       "   order_id  product_id  add_to_cart_order  reordered\n",
       "0         2       33120                  1          1\n",
       "1         2       28985                  2          1\n",
       "2         2        9327                  3          0\n",
       "3         2       45918                  4          1\n",
       "4         2       30035                  5          0"
      ]
     },
     "execution_count": 9,
     "metadata": {},
     "output_type": "execute_result"
    }
   ],
   "source": [
    "order_products__prior.head()\n"
   ]
  },
  {
   "cell_type": "code",
   "execution_count": 10,
   "metadata": {},
   "outputs": [
    {
     "data": {
      "text/html": [
       "<div>\n",
       "<style scoped>\n",
       "    .dataframe tbody tr th:only-of-type {\n",
       "        vertical-align: middle;\n",
       "    }\n",
       "\n",
       "    .dataframe tbody tr th {\n",
       "        vertical-align: top;\n",
       "    }\n",
       "\n",
       "    .dataframe thead th {\n",
       "        text-align: right;\n",
       "    }\n",
       "</style>\n",
       "<table border=\"1\" class=\"dataframe\">\n",
       "  <thead>\n",
       "    <tr style=\"text-align: right;\">\n",
       "      <th></th>\n",
       "      <th>order_id</th>\n",
       "      <th>product_id</th>\n",
       "      <th>add_to_cart_order</th>\n",
       "      <th>reordered</th>\n",
       "    </tr>\n",
       "  </thead>\n",
       "  <tbody>\n",
       "    <tr>\n",
       "      <th>0</th>\n",
       "      <td>1</td>\n",
       "      <td>49302</td>\n",
       "      <td>1</td>\n",
       "      <td>1</td>\n",
       "    </tr>\n",
       "    <tr>\n",
       "      <th>1</th>\n",
       "      <td>1</td>\n",
       "      <td>11109</td>\n",
       "      <td>2</td>\n",
       "      <td>1</td>\n",
       "    </tr>\n",
       "    <tr>\n",
       "      <th>2</th>\n",
       "      <td>1</td>\n",
       "      <td>10246</td>\n",
       "      <td>3</td>\n",
       "      <td>0</td>\n",
       "    </tr>\n",
       "    <tr>\n",
       "      <th>3</th>\n",
       "      <td>1</td>\n",
       "      <td>49683</td>\n",
       "      <td>4</td>\n",
       "      <td>0</td>\n",
       "    </tr>\n",
       "    <tr>\n",
       "      <th>4</th>\n",
       "      <td>1</td>\n",
       "      <td>43633</td>\n",
       "      <td>5</td>\n",
       "      <td>1</td>\n",
       "    </tr>\n",
       "  </tbody>\n",
       "</table>\n",
       "</div>"
      ],
      "text/plain": [
       "   order_id  product_id  add_to_cart_order  reordered\n",
       "0         1       49302                  1          1\n",
       "1         1       11109                  2          1\n",
       "2         1       10246                  3          0\n",
       "3         1       49683                  4          0\n",
       "4         1       43633                  5          1"
      ]
     },
     "execution_count": 10,
     "metadata": {},
     "output_type": "execute_result"
    }
   ],
   "source": [
    "order_products__train.head()"
   ]
  },
  {
   "cell_type": "code",
   "execution_count": 11,
   "metadata": {},
   "outputs": [
    {
     "data": {
      "text/html": [
       "<div>\n",
       "<style scoped>\n",
       "    .dataframe tbody tr th:only-of-type {\n",
       "        vertical-align: middle;\n",
       "    }\n",
       "\n",
       "    .dataframe tbody tr th {\n",
       "        vertical-align: top;\n",
       "    }\n",
       "\n",
       "    .dataframe thead th {\n",
       "        text-align: right;\n",
       "    }\n",
       "</style>\n",
       "<table border=\"1\" class=\"dataframe\">\n",
       "  <thead>\n",
       "    <tr style=\"text-align: right;\">\n",
       "      <th></th>\n",
       "      <th>product_id</th>\n",
       "      <th>product_name</th>\n",
       "      <th>aisle_id</th>\n",
       "      <th>department_id</th>\n",
       "    </tr>\n",
       "  </thead>\n",
       "  <tbody>\n",
       "    <tr>\n",
       "      <th>0</th>\n",
       "      <td>1</td>\n",
       "      <td>Chocolate Sandwich Cookies</td>\n",
       "      <td>61</td>\n",
       "      <td>19</td>\n",
       "    </tr>\n",
       "    <tr>\n",
       "      <th>1</th>\n",
       "      <td>2</td>\n",
       "      <td>All-Seasons Salt</td>\n",
       "      <td>104</td>\n",
       "      <td>13</td>\n",
       "    </tr>\n",
       "    <tr>\n",
       "      <th>2</th>\n",
       "      <td>3</td>\n",
       "      <td>Robust Golden Unsweetened Oolong Tea</td>\n",
       "      <td>94</td>\n",
       "      <td>7</td>\n",
       "    </tr>\n",
       "    <tr>\n",
       "      <th>3</th>\n",
       "      <td>4</td>\n",
       "      <td>Smart Ones Classic Favorites Mini Rigatoni Wit...</td>\n",
       "      <td>38</td>\n",
       "      <td>1</td>\n",
       "    </tr>\n",
       "    <tr>\n",
       "      <th>4</th>\n",
       "      <td>5</td>\n",
       "      <td>Green Chile Anytime Sauce</td>\n",
       "      <td>5</td>\n",
       "      <td>13</td>\n",
       "    </tr>\n",
       "  </tbody>\n",
       "</table>\n",
       "</div>"
      ],
      "text/plain": [
       "   product_id                                       product_name  aisle_id  \\\n",
       "0           1                         Chocolate Sandwich Cookies        61   \n",
       "1           2                                   All-Seasons Salt       104   \n",
       "2           3               Robust Golden Unsweetened Oolong Tea        94   \n",
       "3           4  Smart Ones Classic Favorites Mini Rigatoni Wit...        38   \n",
       "4           5                          Green Chile Anytime Sauce         5   \n",
       "\n",
       "   department_id  \n",
       "0             19  \n",
       "1             13  \n",
       "2              7  \n",
       "3              1  \n",
       "4             13  "
      ]
     },
     "execution_count": 11,
     "metadata": {},
     "output_type": "execute_result"
    }
   ],
   "source": [
    "products.head()"
   ]
  },
  {
   "cell_type": "code",
   "execution_count": 12,
   "metadata": {},
   "outputs": [],
   "source": [
    "aisles = aisles[aisles[\"aisle\"].apply(lambda x: x != \"missing\" and x != \"other\")]\n",
    "departments = departments[departments[\"department\"].apply(lambda x: x != \"missing\" and x != \"other\")]"
   ]
  },
  {
   "cell_type": "code",
   "execution_count": 13,
   "metadata": {},
   "outputs": [],
   "source": [
    "def get_user_list(df, user_column):\n",
    "    \"\"\"\n",
    "    \n",
    "    creating a list of user from dataframe df, user_column is a column \n",
    "    consisting of users in the dataframe df\n",
    "    \n",
    "    \"\"\"\n",
    "    \n",
    "    return np.sort(df[user_column].unique())"
   ]
  },
  {
   "cell_type": "code",
   "execution_count": 22,
   "metadata": {},
   "outputs": [],
   "source": [
    "def get_item_list(df, item_name_column):\n",
    "    \n",
    "    \"\"\"\n",
    "    \n",
    "    creating a list of items from dataframe df, item_column is a column \n",
    "    consisting of items in the dataframe df\n",
    "    \n",
    "    return to item_id_list and item_id2name_mapping\n",
    "    \n",
    "    \"\"\"\n",
    "    \n",
    "    item_list = df[item_name_column].unique()\n",
    "    \n",
    "    \n",
    "    return item_list"
   ]
  },
  {
   "cell_type": "code",
   "execution_count": 15,
   "metadata": {},
   "outputs": [],
   "source": [
    "def get_feature_list(aisle_df, department_df, aisle_name_column, department_name_column):\n",
    "    \n",
    "    aisle = aisle_df[aisle_name_column]\n",
    "    department = department_df[department_name_column]\n",
    "    \n",
    "    return pd.concat([aisle, department], ignore_index = True).unique()\n",
    "\n",
    "# creating user_id, item_id, and features_id\n"
   ]
  },
  {
   "cell_type": "code",
   "execution_count": 16,
   "metadata": {},
   "outputs": [],
   "source": [
    "def id_mappings(user_list, item_list, feature_list):\n",
    "    \"\"\"\n",
    "    \n",
    "    Create id mappings to convert user_id, item_id, and feature_id\n",
    "    \n",
    "    \"\"\"\n",
    "    user_to_index_mapping = {}\n",
    "    index_to_user_mapping = {}\n",
    "    for user_index, user_id in enumerate(user_list):\n",
    "        user_to_index_mapping[user_id] = user_index\n",
    "        index_to_user_mapping[user_index] = user_id\n",
    "        \n",
    "    item_to_index_mapping = {}\n",
    "    index_to_item_mapping = {}\n",
    "    for item_index, item_id in enumerate(item_list):\n",
    "        item_to_index_mapping[item_id] = item_index\n",
    "        index_to_item_mapping[item_index] = item_id\n",
    "        \n",
    "    feature_to_index_mapping = {}\n",
    "    index_to_feature_mapping = {}\n",
    "    for feature_index, feature_id in enumerate(feature_list):\n",
    "        feature_to_index_mapping[feature_id] = feature_index\n",
    "        index_to_feature_mapping[feature_index] = feature_id\n",
    "        \n",
    "        \n",
    "    return user_to_index_mapping, index_to_user_mapping, \\\n",
    "           item_to_index_mapping, index_to_item_mapping, \\\n",
    "           feature_to_index_mapping, index_to_feature_mapping\n"
   ]
  },
  {
   "cell_type": "code",
   "execution_count": 17,
   "metadata": {},
   "outputs": [],
   "source": [
    "def get_user_product_interaction(orders_df, order_products_train_df, order_products_test_df, products_df):\n",
    "    \n",
    "    # creating a dataframe consists of TWO columns user_id, and product_name (product bought by the user) for the train data\n",
    "    user_to_product_train_df = orders_df[orders_df[\"eval_set\"] == \"prior\"][[\"user_id\", \"order_id\"]].\\\n",
    "    merge(order_products_train_df[[\"order_id\", \"product_id\"]]).merge(products_df[[\"product_id\", \"product_name\"]])\\\n",
    "    [[\"user_id\", \"product_name\"]].copy()\n",
    "    \n",
    "    # giving rating as the number of product purchase count\n",
    "    user_to_product_train_df[\"product_count\"] = 1\n",
    "    user_to_product_rating_train = user_to_product_train_df.groupby([\"user_id\", \"product_name\"], as_index = False)[\"product_count\"].sum()\n",
    "    \n",
    "    # creating a dataframe consists of TWO columns user_id, and product_name (product bought by the user) for the test data\n",
    "    user_to_product_test_df = orders_df[orders_df[\"eval_set\"] == \"train\"][[\"user_id\", \"order_id\"]].\\\n",
    "    merge(order_products_test_df[[\"order_id\", \"product_id\"]]).merge(products_df[[\"product_id\", \"product_name\"]])\\\n",
    "    [[\"user_id\", \"product_name\"]].copy()\n",
    "    \n",
    "    # giving rating as the number of product purchase count (including the previous purchase in the training data)\n",
    "    user_to_product_test_df[\"product_count\"] = 1\n",
    "    user_to_product_rating_test = user_to_product_test_df.groupby([\"user_id\", \"product_name\"], as_index = False)[\"product_count\"].sum()\n",
    "    \n",
    "    # merging with the previous training user_to_product_rating_training\n",
    "    \n",
    "    user_to_product_rating_test = user_to_product_rating_test.\\\n",
    "    merge(user_to_product_rating_train.rename(columns = {\"product_count\" : \"previous_product_count\"}), how = \"left\").fillna(0)\n",
    "    user_to_product_rating_test[\"product_count\"] = user_to_product_rating_test.apply(lambda x: x[\"previous_product_count\"] + \\\n",
    "                                                                                    x[\"product_count\"], axis = 1)\n",
    "    user_to_product_rating_test.drop(columns = [\"previous_product_count\"], inplace = True)\n",
    "    \n",
    "    return user_to_product_rating_train, user_to_product_rating_test"
   ]
  },
  {
   "cell_type": "code",
   "execution_count": 18,
   "metadata": {},
   "outputs": [],
   "source": [
    "def get_interaction_matrix(df, df_column_as_row, df_column_as_col, df_column_as_value, row_indexing_map, \n",
    "                          col_indexing_map):\n",
    "    \n",
    "    row = df[df_column_as_row].apply(lambda x: row_indexing_map[x]).values\n",
    "    col = df[df_column_as_col].apply(lambda x: col_indexing_map[x]).values\n",
    "    value = df[df_column_as_value].values\n",
    "    \n",
    "    return coo_matrix((value, (row, col)), shape = (len(row_indexing_map), len(col_indexing_map)))"
   ]
  },
  {
   "cell_type": "code",
   "execution_count": 19,
   "metadata": {},
   "outputs": [],
   "source": [
    "def get_product_feature_interaction(product_df, aisle_df, department_df, aisle_weight = 1, department_weight = 1):\n",
    "    item_feature_df = product_df.merge(aisle_df).merge(department_df)[[\"product_name\", \"aisle\", \"department\"]]\n",
    "    \n",
    "    # start indexing\n",
    "    item_feature_df[\"product_name\"] = item_feature_df[\"product_name\"]\n",
    "    item_feature_df[\"aisle\"] = item_feature_df[\"aisle\"]\n",
    "    item_feature_df[\"department\"] = item_feature_df[\"department\"]\n",
    "    \n",
    "    # allocate aisle and department into one column as \"feature\"\n",
    "    \n",
    "    product_aisle_df = item_feature_df[[\"product_name\", \"aisle\"]].rename(columns = {\"aisle\" : \"feature\"})\n",
    "    product_aisle_df[\"feature_count\"] = aisle_weight # adding weight to aisle feature\n",
    "    product_department_df = item_feature_df[[\"product_name\", \"department\"]].rename(columns = {\"department\" : \"feature\"})\n",
    "    product_department_df[\"feature_count\"] = department_weight # adding weight to department feature\n",
    "    \n",
    "    # combining aisle and department into one\n",
    "    product_feature_df = pd.concat([product_aisle_df, product_department_df], ignore_index=True)\n",
    "    \n",
    "    # saving some memory\n",
    "    del item_feature_df\n",
    "    del product_aisle_df\n",
    "    del product_department_df\n",
    "    \n",
    "    \n",
    "    # grouping for summing over feature_count\n",
    "    product_feature_df = product_feature_df.groupby([\"product_name\", \"feature\"], as_index = False)[\"feature_count\"].sum()\n",
    "    \n",
    "    \n",
    "    return product_feature_df\n"
   ]
  },
  {
   "cell_type": "code",
   "execution_count": 23,
   "metadata": {},
   "outputs": [],
   "source": [
    "# create the user, item, feature lists\n",
    "users = get_user_list(orders, \"user_id\")\n",
    "items = get_item_list(products, \"product_name\")\n",
    "features = get_feature_list(aisles, departments, \"aisle\", \"department\")"
   ]
  },
  {
   "cell_type": "code",
   "execution_count": 24,
   "metadata": {},
   "outputs": [],
   "source": [
    "\n",
    "# generate mapping, LightFM library can't read other than (integer) index\n",
    "user_to_index_mapping, index_to_user_mapping, \\\n",
    "           item_to_index_mapping, index_to_item_mapping, \\\n",
    "           feature_to_index_mapping, index_to_feature_mapping = id_mappings(users, items, features)"
   ]
  },
  {
   "cell_type": "code",
   "execution_count": 26,
   "metadata": {},
   "outputs": [],
   "source": [
    "# convert to the user, item, feature lists into indexes.\n",
    "# interaction matrices can only consume indexes\n",
    "user_to_product_rating_train, user_to_product_rating_test = get_user_product_interaction(orders, order_products__prior, \n",
    "                                                                                        order_products__train, products)"
   ]
  },
  {
   "cell_type": "code",
   "execution_count": 27,
   "metadata": {},
   "outputs": [],
   "source": [
    "# create product and feature interaction matrix\n",
    "product_to_feature = get_product_feature_interaction(product_df = products, \n",
    "                                                     aisle_df = aisles, \n",
    "                                                     department_df = departments,\n",
    "                                                     aisle_weight=1, \n",
    "                                                     department_weight=1)"
   ]
  },
  {
   "cell_type": "code",
   "execution_count": 28,
   "metadata": {},
   "outputs": [],
   "source": [
    "\n",
    "del aisles \n",
    "del departments \n",
    "del orders \n",
    "del order_products__prior \n",
    "del order_products__train \n",
    "del products"
   ]
  },
  {
   "cell_type": "code",
   "execution_count": 29,
   "metadata": {},
   "outputs": [],
   "source": [
    "# generate user_item_interaction_matrix for train data\n",
    "user_to_product_interaction_train = get_interaction_matrix(user_to_product_rating_train, \"user_id\", \n",
    "                                                    \"product_name\", \"product_count\", user_to_index_mapping, item_to_index_mapping)\n",
    "\n",
    "# # generate user_item_interaction_matrix for test data\n",
    "# user_to_product_interaction_test = get_interaction_matrix(user_to_product_rating_test, \"user_id\", \n",
    "#                                                     \"product_name\", \"product_count\", user_to_index_mapping, item_to_index_mapping)\n",
    "\n",
    "# # generate item_to_feature interaction\n",
    "# product_to_feature_interaction = get_interaction_matrix(product_to_feature, \"product_name\", \"feature\",  \"feature_count\", \n",
    "#                                                         item_to_index_mapping, feature_to_index_mapping)"
   ]
  },
  {
   "cell_type": "code",
   "execution_count": 30,
   "metadata": {},
   "outputs": [],
   "source": [
    "# # generate user_item_interaction_matrix for test data\n",
    "user_to_product_interaction_test = get_interaction_matrix(user_to_product_rating_test, \"user_id\", \n",
    "                                                    \"product_name\", \"product_count\", user_to_index_mapping, item_to_index_mapping)"
   ]
  },
  {
   "cell_type": "code",
   "execution_count": 31,
   "metadata": {},
   "outputs": [],
   "source": [
    "# generate item_to_feature interaction\n",
    "product_to_feature_interaction = get_interaction_matrix(product_to_feature, \"product_name\", \"feature\",  \"feature_count\", \n",
    "                                                        item_to_index_mapping, feature_to_index_mapping)"
   ]
  },
  {
   "cell_type": "code",
   "execution_count": 35,
   "metadata": {},
   "outputs": [
    {
     "data": {
      "text/plain": [
       "<206209x49688 sparse matrix of type '<class 'numpy.int64'>'\n",
       "\twith 13307953 stored elements in COOrdinate format>"
      ]
     },
     "execution_count": 35,
     "metadata": {},
     "output_type": "execute_result"
    }
   ],
   "source": [
    "user_to_product_interaction_train"
   ]
  },
  {
   "cell_type": "code",
   "execution_count": 36,
   "metadata": {},
   "outputs": [
    {
     "data": {
      "text/plain": [
       "<206209x49688 sparse matrix of type '<class 'numpy.float64'>'\n",
       "\twith 1384617 stored elements in COOrdinate format>"
      ]
     },
     "execution_count": 36,
     "metadata": {},
     "output_type": "execute_result"
    }
   ],
   "source": [
    "user_to_product_interaction_test"
   ]
  },
  {
   "cell_type": "code",
   "execution_count": 37,
   "metadata": {},
   "outputs": [
    {
     "data": {
      "text/plain": [
       "<49688x151 sparse matrix of type '<class 'numpy.int64'>'\n",
       "\twith 95764 stored elements in COOrdinate format>"
      ]
     },
     "execution_count": 37,
     "metadata": {},
     "output_type": "execute_result"
    }
   ],
   "source": [
    "product_to_feature_interaction"
   ]
  },
  {
   "cell_type": "code",
   "execution_count": 38,
   "metadata": {},
   "outputs": [],
   "source": [
    "\n",
    "# initialising model with warp loss function\n",
    "model_without_features = LightFM(loss = \"warp\")"
   ]
  },
  {
   "cell_type": "code",
   "execution_count": 39,
   "metadata": {},
   "outputs": [
    {
     "name": "stdout",
     "output_type": "stream",
     "text": [
      "time taken = 7.65 seconds\n"
     ]
    }
   ],
   "source": [
    "\n",
    "# fitting into user to product interaction matrix only / pure collaborative filtering factor\n",
    "\n",
    "start = time.time()\n",
    "#===================\n",
    "\n",
    "model_without_features.fit(user_to_product_interaction_train,\n",
    "          user_features=None, \n",
    "          item_features=None, \n",
    "          sample_weight=None, \n",
    "          epochs=1, \n",
    "          num_threads=4,\n",
    "          verbose=False)\n",
    "\n",
    "#===================\n",
    "end = time.time()\n",
    "print(\"time taken = {0:.{1}f} seconds\".format(end - start, 2))"
   ]
  },
  {
   "cell_type": "code",
   "execution_count": 40,
   "metadata": {},
   "outputs": [
    {
     "name": "stdout",
     "output_type": "stream",
     "text": [
      "time taken = 77.33 seconds\n"
     ]
    }
   ],
   "source": [
    "\n",
    "# auc metric score (ranging from 0 to 1)\n",
    "\n",
    "start = time.time()\n",
    "#===================\n",
    "\n",
    "auc_without_features = auc_score(model = model_without_features, \n",
    "                        test_interactions = user_to_product_interaction_test,\n",
    "                        num_threads = 4, check_intersections = False)\n",
    "#===================\n",
    "end = time.time()\n",
    "print(\"time taken = {0:.{1}f} seconds\".format(end - start, 2))"
   ]
  },
  {
   "cell_type": "code",
   "execution_count": 41,
   "metadata": {},
   "outputs": [
    {
     "name": "stdout",
     "output_type": "stream",
     "text": [
      "average AUC without adding item-feature interaction = 0.95\n"
     ]
    }
   ],
   "source": [
    "print(\"average AUC without adding item-feature interaction = {0:.{1}f}\".format(auc_without_features.mean(), 2))"
   ]
  },
  {
   "cell_type": "code",
   "execution_count": 42,
   "metadata": {},
   "outputs": [],
   "source": [
    "# initialising model with warp loss function\n",
    "model_with_features = LightFM(loss = \"warp\")\n"
   ]
  },
  {
   "cell_type": "code",
   "execution_count": 43,
   "metadata": {},
   "outputs": [
    {
     "name": "stdout",
     "output_type": "stream",
     "text": [
      "time taken = 7.97 seconds\n"
     ]
    }
   ],
   "source": [
    "# fitting the model with hybrid collaborative filtering + content based (product + features)\n",
    "start = time.time()\n",
    "#===================\n",
    "\n",
    "\n",
    "model_with_features.fit(user_to_product_interaction_train,\n",
    "          user_features=None, \n",
    "          item_features=product_to_feature_interaction, \n",
    "          sample_weight=None, \n",
    "          epochs=1, \n",
    "          num_threads=4,\n",
    "          verbose=False)\n",
    "\n",
    "#===================\n",
    "end = time.time()\n",
    "print(\"time taken = {0:.{1}f} seconds\".format(end - start, 2))"
   ]
  },
  {
   "cell_type": "code",
   "execution_count": 44,
   "metadata": {},
   "outputs": [
    {
     "name": "stdout",
     "output_type": "stream",
     "text": [
      "time taken = 121.61 seconds\n"
     ]
    }
   ],
   "source": [
    "\n",
    "start = time.time()\n",
    "#===================\n",
    "auc_with_features = auc_score(model = model_with_features, \n",
    "                        test_interactions = user_to_product_interaction_test,\n",
    "                        train_interactions = user_to_product_interaction_train, \n",
    "                        item_features = product_to_feature_interaction,\n",
    "                        num_threads = 4, check_intersections=False)\n",
    "#===================\n",
    "end = time.time()\n",
    "print(\"time taken = {0:.{1}f} seconds\".format(end - start, 2))\n",
    "\n",
    "\n",
    "\n",
    "# model, test_interactions, train_interactions=None, \n",
    "# user_features=None, item_features=None, preserve_rows=False, num_threads=1, check_intersections=True\n"
   ]
  },
  {
   "cell_type": "code",
   "execution_count": 45,
   "metadata": {},
   "outputs": [
    {
     "name": "stdout",
     "output_type": "stream",
     "text": [
      "average AUC without adding item-feature interaction = 0.80\n"
     ]
    }
   ],
   "source": [
    "print(\"average AUC without adding item-feature interaction = {0:.{1}f}\".format(auc_with_features.mean(), 2))\n"
   ]
  },
  {
   "cell_type": "code",
   "execution_count": 46,
   "metadata": {},
   "outputs": [],
   "source": [
    "def combined_train_test(train, test):\n",
    "    \"\"\"\n",
    "    \n",
    "    test set is the more recent rating/number_of_order of users.\n",
    "    train set is the previous rating/number_of_order of users.\n",
    "    non-zero value in the test set will replace the elements in \n",
    "    the train set matrices\n",
    "\n",
    "    \"\"\"\n",
    "    # initialising train dict\n",
    "    train_dict = {}\n",
    "    for train_row, train_col, train_data in zip(train.row, train.col, train.data):\n",
    "        train_dict[(train_row, train_col)] = train_data\n",
    "        \n",
    "    # replacing with the test set\n",
    "    \n",
    "    for test_row, test_col, test_data in zip(test.row, test.col, test.data):\n",
    "        train_dict[(test_row, test_col)] = max(test_data, train_dict.get((test_row, test_col), 0))\n",
    "        \n",
    "    \n",
    "    # converting to the row\n",
    "    row_element = []\n",
    "    col_element = []\n",
    "    data_element = []\n",
    "    for row, col in train_dict:\n",
    "        row_element.append(row)\n",
    "        col_element.append(col)\n",
    "        data_element.append(train_dict[(row, col)])\n",
    "        \n",
    "    # converting to np array\n",
    "    \n",
    "    row_element = np.array(row_element)\n",
    "    col_element = np.array(col_element)\n",
    "    data_element = np.array(data_element)\n",
    "    \n",
    "    return coo_matrix((data_element, (row_element, col_element)), shape = (train.shape[0], train.shape[1]))"
   ]
  },
  {
   "cell_type": "code",
   "execution_count": 47,
   "metadata": {},
   "outputs": [],
   "source": [
    "\n",
    "user_to_product_interaction = combined_train_test(user_to_product_interaction_train, \n",
    "                                                 user_to_product_interaction_test)"
   ]
  },
  {
   "cell_type": "code",
   "execution_count": 48,
   "metadata": {},
   "outputs": [
    {
     "data": {
      "text/plain": [
       "<206209x49688 sparse matrix of type '<class 'numpy.float64'>'\n",
       "\twith 13863746 stored elements in COOrdinate format>"
      ]
     },
     "execution_count": 48,
     "metadata": {},
     "output_type": "execute_result"
    }
   ],
   "source": [
    "user_to_product_interaction"
   ]
  },
  {
   "cell_type": "code",
   "execution_count": 49,
   "metadata": {},
   "outputs": [
    {
     "name": "stdout",
     "output_type": "stream",
     "text": [
      "time taken = 7.55 seconds\n"
     ]
    }
   ],
   "source": [
    "\n",
    "# retraining the final model with combined dataset\n",
    "\n",
    "final_model = LightFM(loss = \"warp\")\n",
    "\n",
    "# fitting to combined dataset with pure collaborative filtering result\n",
    "\n",
    "start = time.time()\n",
    "#===================\n",
    "\n",
    "final_model.fit(user_to_product_interaction,\n",
    "          user_features=None, \n",
    "          item_features=None, \n",
    "          sample_weight=None, \n",
    "          epochs=1, \n",
    "          num_threads=4,\n",
    "          verbose=False)\n",
    "\n",
    "#===================\n",
    "end = time.time()\n",
    "print(\"time taken = {0:.{1}f} seconds\".format(end - start, 2))"
   ]
  },
  {
   "cell_type": "code",
   "execution_count": 50,
   "metadata": {},
   "outputs": [],
   "source": [
    "class recommendation_sampling:\n",
    "    \n",
    "    def __init__(self, model, items = items, user_to_product_interaction_matrix = user_to_product_interaction, \n",
    "                user2index_map = user_to_index_mapping):\n",
    "        \n",
    "        self.user_to_product_interaction_matrix = user_to_product_interaction_matrix\n",
    "        self.model = model\n",
    "        self.items = items\n",
    "        self.user2index_map = user2index_map\n",
    "    \n",
    "    def recommendation_for_user(self, user):\n",
    "        \n",
    "        # getting the userindex\n",
    "        \n",
    "        userindex = self.user2index_map.get(user, None)\n",
    "        \n",
    "        if userindex == None:\n",
    "            return None\n",
    "        \n",
    "        users = [userindex]\n",
    "        \n",
    "        # products already bought\n",
    "        \n",
    "        known_positives = self.items[self.user_to_product_interaction_matrix.tocsr()[userindex].indices]\n",
    "        \n",
    "        # scores from model prediction\n",
    "        scores = self.model.predict(user_ids = users, item_ids = np.arange(self.user_to_product_interaction_matrix.shape[1]))\n",
    "        \n",
    "        # top items\n",
    "        \n",
    "        top_items = self.items[np.argsort(-scores)]\n",
    "        \n",
    "        # printing out the result\n",
    "        print(\"User %s\" % user)\n",
    "        print(\"     Known positives:\")\n",
    "        for x in known_positives[:3]:\n",
    "            print(\"                  %s\" % x)\n",
    "            \n",
    "            \n",
    "        print(\"     Recommended:\")\n",
    "        \n",
    "        for x in top_items[:3]:\n",
    "            print(\"                  %s\" % x)"
   ]
  },
  {
   "cell_type": "code",
   "execution_count": 51,
   "metadata": {},
   "outputs": [],
   "source": [
    "recom = recommendation_sampling(model = final_model)"
   ]
  },
  {
   "cell_type": "code",
   "execution_count": 52,
   "metadata": {},
   "outputs": [
    {
     "name": "stdout",
     "output_type": "stream",
     "text": [
      "User 2\n",
      "     Known positives:\n",
      "                  Organic Turkey Burgers\n",
      "                  Wild Albacore Tuna No Salt Added\n",
      "                  Cherry Pomegranate Greek Yogurt\n",
      "     Recommended:\n",
      "                  Banana\n",
      "                  Organic Hass Avocado\n",
      "                  Organic Strawberries\n"
     ]
    }
   ],
   "source": [
    "recom.recommendation_for_user(2)"
   ]
  },
  {
   "cell_type": "code",
   "execution_count": 67,
   "metadata": {},
   "outputs": [
    {
     "data": {
      "text/plain": [
       "dict"
      ]
     },
     "execution_count": 67,
     "metadata": {},
     "output_type": "execute_result"
    }
   ],
   "source": [
    "type(user_to_index_mapping)"
   ]
  },
  {
   "cell_type": "code",
   "execution_count": 53,
   "metadata": {},
   "outputs": [
    {
     "name": "stdout",
     "output_type": "stream",
     "text": [
      "User 10\n",
      "     Known positives:\n",
      "                  Cantaloupe\n",
      "                  Parsley, Italian (Flat), New England Grown\n",
      "                  Seedless Red Grapes\n",
      "     Recommended:\n",
      "                  Organic Strawberries\n",
      "                  Banana\n",
      "                  Organic Garlic\n"
     ]
    }
   ],
   "source": [
    "\n",
    "recom.recommendation_for_user(10)"
   ]
  },
  {
   "cell_type": "code",
   "execution_count": 58,
   "metadata": {},
   "outputs": [],
   "source": [
    "import pickle"
   ]
  },
  {
   "cell_type": "code",
   "execution_count": 59,
   "metadata": {},
   "outputs": [],
   "source": [
    "with open('savefile.pickle', 'wb') as fle:\n",
    "    pickle.dump(final_model, fle, protocol=pickle.HIGHEST_PROTOCOL)"
   ]
  },
  {
   "cell_type": "code",
   "execution_count": 60,
   "metadata": {},
   "outputs": [],
   "source": [
    "mod = open('savefile.pickle', 'rb')\n",
    "final_mod=pickle.load(mod)"
   ]
  },
  {
   "cell_type": "code",
   "execution_count": 61,
   "metadata": {},
   "outputs": [],
   "source": [
    "recom = recommendation_sampling(model = final_mod)"
   ]
  },
  {
   "cell_type": "code",
   "execution_count": 62,
   "metadata": {},
   "outputs": [
    {
     "name": "stdout",
     "output_type": "stream",
     "text": [
      "User 2\n",
      "     Known positives:\n",
      "                  Organic Turkey Burgers\n",
      "                  Wild Albacore Tuna No Salt Added\n",
      "                  Cherry Pomegranate Greek Yogurt\n",
      "     Recommended:\n",
      "                  Banana\n",
      "                  Organic Hass Avocado\n",
      "                  Organic Strawberries\n"
     ]
    }
   ],
   "source": [
    "recom.recommendation_for_user(2)"
   ]
  },
  {
   "cell_type": "code",
   "execution_count": 63,
   "metadata": {},
   "outputs": [
    {
     "data": {
      "text/plain": [
       "numpy.ndarray"
      ]
     },
     "execution_count": 63,
     "metadata": {},
     "output_type": "execute_result"
    }
   ],
   "source": [
    "type(items)"
   ]
  },
  {
   "cell_type": "code",
   "execution_count": 64,
   "metadata": {},
   "outputs": [],
   "source": [
    "np.save(\"items\",items)"
   ]
  },
  {
   "cell_type": "code",
   "execution_count": 65,
   "metadata": {},
   "outputs": [],
   "source": [
    "np.save(\"user_to_product_interaction_matrix\",user_to_product_interaction)"
   ]
  },
  {
   "cell_type": "code",
   "execution_count": 66,
   "metadata": {},
   "outputs": [],
   "source": [
    "np.save(\"user2index_map\",user_to_index_mapping)"
   ]
  },
  {
   "cell_type": "code",
   "execution_count": 69,
   "metadata": {},
   "outputs": [
    {
     "ename": "TypeError",
     "evalue": "key 1 is not a string",
     "output_type": "error",
     "traceback": [
      "\u001b[0;31m---------------------------------------------------------------------------\u001b[0m",
      "\u001b[0;31mTypeError\u001b[0m                                 Traceback (most recent call last)",
      "\u001b[0;32m<ipython-input-69-6d67c43717a0>\u001b[0m in \u001b[0;36m<module>\u001b[0;34m\u001b[0m\n\u001b[1;32m      2\u001b[0m \u001b[0;34m\u001b[0m\u001b[0m\n\u001b[1;32m      3\u001b[0m \u001b[0;32mwith\u001b[0m \u001b[0mopen\u001b[0m\u001b[0;34m(\u001b[0m\u001b[0;34m'user2index_map.json'\u001b[0m\u001b[0;34m,\u001b[0m \u001b[0;34m'w'\u001b[0m\u001b[0;34m)\u001b[0m \u001b[0;32mas\u001b[0m \u001b[0mfp\u001b[0m\u001b[0;34m:\u001b[0m\u001b[0;34m\u001b[0m\u001b[0;34m\u001b[0m\u001b[0m\n\u001b[0;32m----> 4\u001b[0;31m     \u001b[0mjson\u001b[0m\u001b[0;34m.\u001b[0m\u001b[0mdump\u001b[0m\u001b[0;34m(\u001b[0m\u001b[0muser_to_index_mapping\u001b[0m\u001b[0;34m,\u001b[0m \u001b[0mfp\u001b[0m\u001b[0;34m)\u001b[0m\u001b[0;34m\u001b[0m\u001b[0;34m\u001b[0m\u001b[0m\n\u001b[0m",
      "\u001b[0;32m~/anaconda3/envs/ml/lib/python3.6/json/__init__.py\u001b[0m in \u001b[0;36mdump\u001b[0;34m(obj, fp, skipkeys, ensure_ascii, check_circular, allow_nan, cls, indent, separators, default, sort_keys, **kw)\u001b[0m\n\u001b[1;32m    177\u001b[0m     \u001b[0;31m# could accelerate with writelines in some versions of Python, at\u001b[0m\u001b[0;34m\u001b[0m\u001b[0;34m\u001b[0m\u001b[0;34m\u001b[0m\u001b[0m\n\u001b[1;32m    178\u001b[0m     \u001b[0;31m# a debuggability cost\u001b[0m\u001b[0;34m\u001b[0m\u001b[0;34m\u001b[0m\u001b[0;34m\u001b[0m\u001b[0m\n\u001b[0;32m--> 179\u001b[0;31m     \u001b[0;32mfor\u001b[0m \u001b[0mchunk\u001b[0m \u001b[0;32min\u001b[0m \u001b[0miterable\u001b[0m\u001b[0;34m:\u001b[0m\u001b[0;34m\u001b[0m\u001b[0;34m\u001b[0m\u001b[0m\n\u001b[0m\u001b[1;32m    180\u001b[0m         \u001b[0mfp\u001b[0m\u001b[0;34m.\u001b[0m\u001b[0mwrite\u001b[0m\u001b[0;34m(\u001b[0m\u001b[0mchunk\u001b[0m\u001b[0;34m)\u001b[0m\u001b[0;34m\u001b[0m\u001b[0;34m\u001b[0m\u001b[0m\n\u001b[1;32m    181\u001b[0m \u001b[0;34m\u001b[0m\u001b[0m\n",
      "\u001b[0;32m~/anaconda3/envs/ml/lib/python3.6/json/encoder.py\u001b[0m in \u001b[0;36m_iterencode\u001b[0;34m(o, _current_indent_level)\u001b[0m\n\u001b[1;32m    428\u001b[0m             \u001b[0;32myield\u001b[0m \u001b[0;32mfrom\u001b[0m \u001b[0m_iterencode_list\u001b[0m\u001b[0;34m(\u001b[0m\u001b[0mo\u001b[0m\u001b[0;34m,\u001b[0m \u001b[0m_current_indent_level\u001b[0m\u001b[0;34m)\u001b[0m\u001b[0;34m\u001b[0m\u001b[0;34m\u001b[0m\u001b[0m\n\u001b[1;32m    429\u001b[0m         \u001b[0;32melif\u001b[0m \u001b[0misinstance\u001b[0m\u001b[0;34m(\u001b[0m\u001b[0mo\u001b[0m\u001b[0;34m,\u001b[0m \u001b[0mdict\u001b[0m\u001b[0;34m)\u001b[0m\u001b[0;34m:\u001b[0m\u001b[0;34m\u001b[0m\u001b[0;34m\u001b[0m\u001b[0m\n\u001b[0;32m--> 430\u001b[0;31m             \u001b[0;32myield\u001b[0m \u001b[0;32mfrom\u001b[0m \u001b[0m_iterencode_dict\u001b[0m\u001b[0;34m(\u001b[0m\u001b[0mo\u001b[0m\u001b[0;34m,\u001b[0m \u001b[0m_current_indent_level\u001b[0m\u001b[0;34m)\u001b[0m\u001b[0;34m\u001b[0m\u001b[0;34m\u001b[0m\u001b[0m\n\u001b[0m\u001b[1;32m    431\u001b[0m         \u001b[0;32melse\u001b[0m\u001b[0;34m:\u001b[0m\u001b[0;34m\u001b[0m\u001b[0;34m\u001b[0m\u001b[0m\n\u001b[1;32m    432\u001b[0m             \u001b[0;32mif\u001b[0m \u001b[0mmarkers\u001b[0m \u001b[0;32mis\u001b[0m \u001b[0;32mnot\u001b[0m \u001b[0;32mNone\u001b[0m\u001b[0;34m:\u001b[0m\u001b[0;34m\u001b[0m\u001b[0;34m\u001b[0m\u001b[0m\n",
      "\u001b[0;32m~/anaconda3/envs/ml/lib/python3.6/json/encoder.py\u001b[0m in \u001b[0;36m_iterencode_dict\u001b[0;34m(dct, _current_indent_level)\u001b[0m\n\u001b[1;32m    374\u001b[0m                 \u001b[0;32mcontinue\u001b[0m\u001b[0;34m\u001b[0m\u001b[0;34m\u001b[0m\u001b[0m\n\u001b[1;32m    375\u001b[0m             \u001b[0;32melse\u001b[0m\u001b[0;34m:\u001b[0m\u001b[0;34m\u001b[0m\u001b[0;34m\u001b[0m\u001b[0m\n\u001b[0;32m--> 376\u001b[0;31m                 \u001b[0;32mraise\u001b[0m \u001b[0mTypeError\u001b[0m\u001b[0;34m(\u001b[0m\u001b[0;34m\"key \"\u001b[0m \u001b[0;34m+\u001b[0m \u001b[0mrepr\u001b[0m\u001b[0;34m(\u001b[0m\u001b[0mkey\u001b[0m\u001b[0;34m)\u001b[0m \u001b[0;34m+\u001b[0m \u001b[0;34m\" is not a string\"\u001b[0m\u001b[0;34m)\u001b[0m\u001b[0;34m\u001b[0m\u001b[0;34m\u001b[0m\u001b[0m\n\u001b[0m\u001b[1;32m    377\u001b[0m             \u001b[0;32mif\u001b[0m \u001b[0mfirst\u001b[0m\u001b[0;34m:\u001b[0m\u001b[0;34m\u001b[0m\u001b[0;34m\u001b[0m\u001b[0m\n\u001b[1;32m    378\u001b[0m                 \u001b[0mfirst\u001b[0m \u001b[0;34m=\u001b[0m \u001b[0;32mFalse\u001b[0m\u001b[0;34m\u001b[0m\u001b[0;34m\u001b[0m\u001b[0m\n",
      "\u001b[0;31mTypeError\u001b[0m: key 1 is not a string"
     ]
    }
   ],
   "source": [
    "import json\n",
    "\n",
    "with open('user2index_map.json', 'w') as fp:\n",
    "    json.dump(user_to_index_mapping, fp)"
   ]
  },
  {
   "cell_type": "code",
   "execution_count": 75,
   "metadata": {},
   "outputs": [],
   "source": [
    "with open('user2index_map.pickle', 'wb') as fle:\n",
    "    pickle.dump(user_to_index_mapping,fle, protocol=pickle.HIGHEST_PROTOCOL)"
   ]
  },
  {
   "cell_type": "code",
   "execution_count": 77,
   "metadata": {},
   "outputs": [
    {
     "data": {
      "text/plain": [
       "scipy.sparse.coo.coo_matrix"
      ]
     },
     "execution_count": 77,
     "metadata": {},
     "output_type": "execute_result"
    }
   ],
   "source": [
    "type(user_to_product_interaction)"
   ]
  },
  {
   "cell_type": "code",
   "execution_count": 79,
   "metadata": {},
   "outputs": [],
   "source": [
    "with open('user_to_product_interaction_matrix', 'wb') as fle:\n",
    "    pickle.dump(user_to_product_interaction,fle, protocol=pickle.HIGHEST_PROTOCOL)\n"
   ]
  },
  {
   "cell_type": "code",
   "execution_count": 80,
   "metadata": {},
   "outputs": [
    {
     "name": "stdout",
     "output_type": "stream",
     "text": [
      "User 6\n",
      "     Known positives:\n",
      "                  Broccoli Crown\n",
      "                  Italian Extra Virgin Olive Oil\n",
      "                  Medium Cheddar Cheese Block\n",
      "     Recommended:\n",
      "                  Organic Strawberries\n",
      "                  Organic Baby Spinach\n",
      "                  Bag of Organic Bananas\n"
     ]
    }
   ],
   "source": [
    "recom.recommendation_for_user(6)"
   ]
  },
  {
   "cell_type": "code",
   "execution_count": null,
   "metadata": {},
   "outputs": [],
   "source": []
  }
 ],
 "metadata": {
  "kernelspec": {
   "display_name": "Python 3",
   "language": "python",
   "name": "python3"
  },
  "language_info": {
   "codemirror_mode": {
    "name": "ipython",
    "version": 3
   },
   "file_extension": ".py",
   "mimetype": "text/x-python",
   "name": "python",
   "nbconvert_exporter": "python",
   "pygments_lexer": "ipython3",
   "version": "3.6.9"
  }
 },
 "nbformat": 4,
 "nbformat_minor": 2
}
